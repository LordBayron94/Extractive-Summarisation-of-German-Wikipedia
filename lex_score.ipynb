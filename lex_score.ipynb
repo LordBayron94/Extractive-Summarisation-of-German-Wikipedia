{
 "cells": [
  {
   "cell_type": "code",
   "execution_count": 1,
   "id": "a06343d2",
   "metadata": {},
   "outputs": [],
   "source": [
    "from rouge import Rouge\n",
    "from configparser import ConfigParser, ExtendedInterpolation\n",
    "from collections import defaultdict\n",
    "from itertools import combinations, product\n",
    "import warnings, pandas as pd, nltk, string\n",
    "warnings.filterwarnings('ignore')\n",
    "from nltk.tokenize import sent_tokenize, word_tokenize\n",
    "import gensim, string\n",
    "from gensim import corpora, models, similarities\n",
    "from gensim.corpora import Dictionary\n",
    "from gensim.matutils import kullback_leibler, hellinger\n",
    "from gensim.models import ldamodel\n",
    "from gensim.similarities import MatrixSimilarity, SparseMatrixSimilarity, Similarity\n",
    "#from gensim.summarization.bm25 import get_bm25_weights\n",
    "from gensim.utils import simple_preprocess\n",
    "from IPython.core.display import display, HTML\n",
    "from IPython.display import Image\n",
    "from IPython.lib.display import YouTubeVideo\n",
    "import numpy as np\n",
    "import pandas as pd\n",
    "import seaborn as sns\n",
    "from sklearn.cluster import KMeans\n",
    "from sklearn.decomposition import TruncatedSVD\n",
    "from sklearn.feature_extraction.text import CountVectorizer, TfidfVectorizer, TfidfTransformer\n",
    "from spacy.matcher import Matcher\n",
    "from sklearn.metrics.pairwise import pairwise_distances\n",
    "from sklearn.neighbors import NearestNeighbors\n",
    "import spacy,sys,nltk\n",
    "from heapq import nlargest\n",
    "from operator import itemgetter\n",
    "import networkx as nx, algorithmx\n",
    "import matplotlib.pyplot as plt\n",
    "import itertools"
   ]
  },
  {
   "cell_type": "code",
   "execution_count": 2,
   "id": "7a7bbff6",
   "metadata": {},
   "outputs": [],
   "source": [
    "df = pd.read_csv('G:/Extractive-Summarisation-of-German-Wikipedia/dataset/data_train.csv', encoding='utf-8')"
   ]
  },
  {
   "cell_type": "code",
   "execution_count": null,
   "id": "d26d059f",
   "metadata": {},
   "outputs": [],
   "source": []
  }
 ],
 "metadata": {
  "kernelspec": {
   "display_name": "Python 3",
   "language": "python",
   "name": "python3"
  },
  "language_info": {
   "codemirror_mode": {
    "name": "ipython",
    "version": 3
   },
   "file_extension": ".py",
   "mimetype": "text/x-python",
   "name": "python",
   "nbconvert_exporter": "python",
   "pygments_lexer": "ipython3",
   "version": "3.8.8"
  }
 },
 "nbformat": 4,
 "nbformat_minor": 5
}
