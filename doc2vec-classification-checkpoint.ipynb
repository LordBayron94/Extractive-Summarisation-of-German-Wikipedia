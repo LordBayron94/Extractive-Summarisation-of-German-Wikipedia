{
 "cells": [
  {
   "cell_type": "code",
   "execution_count": 1,
   "metadata": {
    "_cell_guid": "84bd82bb-73e8-4869-841b-76e5d3bf4014",
    "_uuid": "6f6199a6-f637-4833-bec1-0ab6c3e298b3",
    "execution": {
     "iopub.execute_input": "2021-08-19T22:13:07.919074Z",
     "iopub.status.busy": "2021-08-19T22:13:07.918634Z",
     "iopub.status.idle": "2021-08-19T22:13:10.545707Z",
     "shell.execute_reply": "2021-08-19T22:13:10.544264Z",
     "shell.execute_reply.started": "2021-08-19T22:13:07.919011Z"
    },
    "id": "UlK_BOWYRrAE",
    "jupyter": {
     "outputs_hidden": false
    },
    "outputId": "85808f08-b175-4c16-da6c-679f620e8795"
   },
   "outputs": [
    {
     "name": "stdout",
     "output_type": "stream",
     "text": [
      "[nltk_data] Downloading package stopwords to /usr/share/nltk_data...\n",
      "[nltk_data]   Package stopwords is already up-to-date!\n"
     ]
    }
   ],
   "source": [
    "import pandas as pd\n",
    "import numpy as np\n",
    "import matplotlib.pyplot as plt\n",
    "import seaborn as sns\n",
    "# Data cleaning:\n",
    "import re\n",
    "from collections import Counter \n",
    "import nltk\n",
    "from nltk import word_tokenize, FreqDist\n",
    "from nltk.corpus import stopwords\n",
    "from nltk.stem import WordNetLemmatizer\n",
    "nltk.download('stopwords')\n",
    "from nltk.tokenize import TweetTokenizer\n",
    "import string\n",
    "#from spellchecker import SpellChecker\n",
    "# Modeling basics:\n",
    "from sklearn.model_selection import train_test_split\n",
    "from sklearn.metrics import accuracy_score, confusion_matrix\n",
    "# For D2V + RF:\n",
    "from gensim.models.doc2vec import Doc2Vec, TaggedDocument\n",
    "import multiprocessing\n",
    "from sklearn.ensemble import RandomForestClassifier\n",
    "from sklearn import utils\n",
    "# For Glove + LSTM:\n",
    "from tqdm import tqdm"
   ]
  },
  {
   "cell_type": "code",
   "execution_count": 2,
   "metadata": {
    "_cell_guid": "fb4831e3-aca4-4725-add8-7ab045eaec2d",
    "_uuid": "c65ec65e-73a5-42e2-8492-9bfb7e879800",
    "execution": {
     "iopub.execute_input": "2021-08-19T22:13:10.553502Z",
     "iopub.status.busy": "2021-08-19T22:13:10.553100Z",
     "iopub.status.idle": "2021-08-19T22:13:24.727191Z",
     "shell.execute_reply": "2021-08-19T22:13:24.726000Z",
     "shell.execute_reply.started": "2021-08-19T22:13:10.553467Z"
    },
    "id": "co-gKT_cINsr",
    "jupyter": {
     "outputs_hidden": false
    },
    "outputId": "79a8d00a-8463-4798-aa35-7ad64c74eb14"
   },
   "outputs": [
    {
     "data": {
      "text/html": [
       "<div>\n",
       "<style scoped>\n",
       "    .dataframe tbody tr th:only-of-type {\n",
       "        vertical-align: middle;\n",
       "    }\n",
       "\n",
       "    .dataframe tbody tr th {\n",
       "        vertical-align: top;\n",
       "    }\n",
       "\n",
       "    .dataframe thead th {\n",
       "        text-align: right;\n",
       "    }\n",
       "</style>\n",
       "<table border=\"1\" class=\"dataframe\">\n",
       "  <thead>\n",
       "    <tr style=\"text-align: right;\">\n",
       "      <th></th>\n",
       "      <th>Unnamed: 0</th>\n",
       "      <th>source1</th>\n",
       "      <th>no_words_inSent_SS</th>\n",
       "      <th>no_words_inSent_SK</th>\n",
       "      <th>noCap_LetterWords_inSentence</th>\n",
       "      <th>sim_sent</th>\n",
       "    </tr>\n",
       "  </thead>\n",
       "  <tbody>\n",
       "    <tr>\n",
       "      <th>0</th>\n",
       "      <td>0</td>\n",
       "      <td>Minghella Sohn italienisch-schottischer Eltern...</td>\n",
       "      <td>1</td>\n",
       "      <td>0</td>\n",
       "      <td>7</td>\n",
       "      <td>1</td>\n",
       "    </tr>\n",
       "    <tr>\n",
       "      <th>1</th>\n",
       "      <td>1</td>\n",
       "      <td>Nach Schulabschluss studierte Universität Hul...</td>\n",
       "      <td>0</td>\n",
       "      <td>0</td>\n",
       "      <td>6</td>\n",
       "      <td>0</td>\n",
       "    </tr>\n",
       "    <tr>\n",
       "      <th>2</th>\n",
       "      <td>2</td>\n",
       "      <td>1978 drehte ersten Kurzfilm .</td>\n",
       "      <td>0</td>\n",
       "      <td>0</td>\n",
       "      <td>1</td>\n",
       "      <td>0</td>\n",
       "    </tr>\n",
       "    <tr>\n",
       "      <th>3</th>\n",
       "      <td>3</td>\n",
       "      <td>Seit 1981 Autor Story Editor tätig .</td>\n",
       "      <td>0</td>\n",
       "      <td>0</td>\n",
       "      <td>4</td>\n",
       "      <td>0</td>\n",
       "    </tr>\n",
       "    <tr>\n",
       "      <th>4</th>\n",
       "      <td>4</td>\n",
       "      <td>Er wurde Theaterstücken , Rundfunkhörspielen...</td>\n",
       "      <td>0</td>\n",
       "      <td>0</td>\n",
       "      <td>9</td>\n",
       "      <td>0</td>\n",
       "    </tr>\n",
       "    <tr>\n",
       "      <th>...</th>\n",
       "      <td>...</td>\n",
       "      <td>...</td>\n",
       "      <td>...</td>\n",
       "      <td>...</td>\n",
       "      <td>...</td>\n",
       "      <td>...</td>\n",
       "    </tr>\n",
       "    <tr>\n",
       "      <th>3513930</th>\n",
       "      <td>3513930</td>\n",
       "      <td>Carl Sigmans Text erschien 1960er Jahren briti...</td>\n",
       "      <td>0</td>\n",
       "      <td>0</td>\n",
       "      <td>7</td>\n",
       "      <td>1</td>\n",
       "    </tr>\n",
       "    <tr>\n",
       "      <th>3513931</th>\n",
       "      <td>3513931</td>\n",
       "      <td>Camillo Felgen alias Heinz Helmer verfasste de...</td>\n",
       "      <td>5</td>\n",
       "      <td>1</td>\n",
       "      <td>12</td>\n",
       "      <td>0</td>\n",
       "    </tr>\n",
       "    <tr>\n",
       "      <th>3513932</th>\n",
       "      <td>3513932</td>\n",
       "      <td>Zahlreiche Interpreten sangen 1964 Lied franzo...</td>\n",
       "      <td>1</td>\n",
       "      <td>1</td>\n",
       "      <td>11</td>\n",
       "      <td>1</td>\n",
       "    </tr>\n",
       "    <tr>\n",
       "      <th>3513933</th>\n",
       "      <td>3513933</td>\n",
       "      <td>Von Letzterer stammt spanischsprachige Fassung...</td>\n",
       "      <td>2</td>\n",
       "      <td>1</td>\n",
       "      <td>6</td>\n",
       "      <td>0</td>\n",
       "    </tr>\n",
       "    <tr>\n",
       "      <th>3513934</th>\n",
       "      <td>3513934</td>\n",
       "      <td>In 1970er Jahren nahmen mehrere prominente Sä...</td>\n",
       "      <td>5</td>\n",
       "      <td>1</td>\n",
       "      <td>13</td>\n",
       "      <td>1</td>\n",
       "    </tr>\n",
       "  </tbody>\n",
       "</table>\n",
       "<p>3513935 rows × 6 columns</p>\n",
       "</div>"
      ],
      "text/plain": [
       "         Unnamed: 0                                            source1  \\\n",
       "0                 0  Minghella Sohn italienisch-schottischer Eltern...   \n",
       "1                 1  Nach Schulabschluss studierte Universität Hul...   \n",
       "2                 2                      1978 drehte ersten Kurzfilm .   \n",
       "3                 3              Seit 1981 Autor Story Editor tätig .   \n",
       "4                 4  Er wurde Theaterstücken , Rundfunkhörspielen...   \n",
       "...             ...                                                ...   \n",
       "3513930     3513930  Carl Sigmans Text erschien 1960er Jahren briti...   \n",
       "3513931     3513931  Camillo Felgen alias Heinz Helmer verfasste de...   \n",
       "3513932     3513932  Zahlreiche Interpreten sangen 1964 Lied franzo...   \n",
       "3513933     3513933  Von Letzterer stammt spanischsprachige Fassung...   \n",
       "3513934     3513934  In 1970er Jahren nahmen mehrere prominente Sä...   \n",
       "\n",
       "         no_words_inSent_SS  no_words_inSent_SK  noCap_LetterWords_inSentence  \\\n",
       "0                         1                   0                             7   \n",
       "1                         0                   0                             6   \n",
       "2                         0                   0                             1   \n",
       "3                         0                   0                             4   \n",
       "4                         0                   0                             9   \n",
       "...                     ...                 ...                           ...   \n",
       "3513930                   0                   0                             7   \n",
       "3513931                   5                   1                            12   \n",
       "3513932                   1                   1                            11   \n",
       "3513933                   2                   1                             6   \n",
       "3513934                   5                   1                            13   \n",
       "\n",
       "         sim_sent  \n",
       "0               1  \n",
       "1               0  \n",
       "2               0  \n",
       "3               0  \n",
       "4               0  \n",
       "...           ...  \n",
       "3513930         1  \n",
       "3513931         0  \n",
       "3513932         1  \n",
       "3513933         0  \n",
       "3513934         1  \n",
       "\n",
       "[3513935 rows x 6 columns]"
      ]
     },
     "execution_count": 2,
     "metadata": {},
     "output_type": "execute_result"
    }
   ],
   "source": [
    "df = pd.read_csv('../input/swisstext-german/data_class.csv', encoding='utf-8')\n",
    "df = df.drop(['Unnamed: 0.1'], axis=1)\n",
    "df"
   ]
  },
  {
   "cell_type": "code",
   "execution_count": 3,
   "metadata": {
    "_cell_guid": "024d1484-6101-4ba1-93a3-c24be8a1d612",
    "_uuid": "13614b27-d9c5-47cb-9d73-a135ba1daa83",
    "execution": {
     "iopub.execute_input": "2021-08-19T22:13:24.729922Z",
     "iopub.status.busy": "2021-08-19T22:13:24.729293Z",
     "iopub.status.idle": "2021-08-19T22:13:25.289585Z",
     "shell.execute_reply": "2021-08-19T22:13:25.288723Z",
     "shell.execute_reply.started": "2021-08-19T22:13:24.729873Z"
    },
    "jupyter": {
     "outputs_hidden": false
    }
   },
   "outputs": [],
   "source": [
    "df['sim_sent'] = np.where((df.noCap_LetterWords_inSentence>8.0) | (df.no_words_inSent_SS>=2.0), 'Yes', 'No')"
   ]
  },
  {
   "cell_type": "code",
   "execution_count": 4,
   "metadata": {
    "execution": {
     "iopub.execute_input": "2021-08-19T22:13:25.291464Z",
     "iopub.status.busy": "2021-08-19T22:13:25.290854Z",
     "iopub.status.idle": "2021-08-19T22:13:25.954233Z",
     "shell.execute_reply": "2021-08-19T22:13:25.953197Z",
     "shell.execute_reply.started": "2021-08-19T22:13:25.291420Z"
    }
   },
   "outputs": [],
   "source": [
    "size = np.random.rand(len(df)) < 0.6\n",
    "df2=df[size]"
   ]
  },
  {
   "cell_type": "code",
   "execution_count": 5,
   "metadata": {
    "_cell_guid": "47525b7d-5548-4606-b332-e7cec6619000",
    "_uuid": "bdbe7802-b017-4a3e-acc7-3f8da348f96b",
    "execution": {
     "iopub.execute_input": "2021-08-19T22:13:25.958369Z",
     "iopub.status.busy": "2021-08-19T22:13:25.957952Z",
     "iopub.status.idle": "2021-08-19T22:13:27.328945Z",
     "shell.execute_reply": "2021-08-19T22:13:27.328219Z",
     "shell.execute_reply.started": "2021-08-19T22:13:25.958338Z"
    },
    "id": "nbVhTpibIY1U",
    "jupyter": {
     "outputs_hidden": false
    }
   },
   "outputs": [],
   "source": [
    "train, test = train_test_split(df2, test_size=0.3, random_state=42)"
   ]
  },
  {
   "cell_type": "code",
   "execution_count": 6,
   "metadata": {
    "_cell_guid": "c88191b0-08e5-4c55-8db1-2deca45801c8",
    "_uuid": "77f34b48-7075-4a27-add3-0dbc9799acb3",
    "execution": {
     "iopub.execute_input": "2021-08-19T22:13:27.330825Z",
     "iopub.status.busy": "2021-08-19T22:13:27.330256Z",
     "iopub.status.idle": "2021-08-19T22:26:19.887191Z",
     "shell.execute_reply": "2021-08-19T22:26:19.886179Z",
     "shell.execute_reply.started": "2021-08-19T22:13:27.330783Z"
    },
    "id": "_g2TG4FsR0-k",
    "jupyter": {
     "outputs_hidden": false
    },
    "outputId": "8349b77a-e1c0-46ff-e687-0ca87c2392df"
   },
   "outputs": [
    {
     "name": "stdout",
     "output_type": "stream",
     "text": [
      "[nltk_data] Downloading package punkt to /usr/share/nltk_data...\n",
      "[nltk_data]   Package punkt is already up-to-date!\n"
     ]
    }
   ],
   "source": [
    "nltk.download('punkt')\n",
    "def tokenize_text(text):\n",
    "    tokens = []\n",
    "    for word in nltk.word_tokenize(text, language = \"german\"):\n",
    "        if len(word) < 2:\n",
    "            continue\n",
    "        tokens.append(word.lower())\n",
    "    return tokens\n",
    "\n",
    "train_tagged = train.apply(\n",
    "    lambda r: TaggedDocument(words=tokenize_text(r['source1']), tags=[r.sim_sent]), axis=1)\n",
    "test_tagged = test.apply(\n",
    "    lambda r: TaggedDocument(words=tokenize_text(r['source1']), tags=[r.sim_sent]), axis=1)"
   ]
  },
  {
   "cell_type": "code",
   "execution_count": 7,
   "metadata": {
    "_cell_guid": "5e99fd56-6d5b-44f1-b72d-4d53aa1ff1f5",
    "_uuid": "d5270016-998a-45a8-98d2-f1f8aecd4868",
    "execution": {
     "iopub.execute_input": "2021-08-19T22:26:19.889250Z",
     "iopub.status.busy": "2021-08-19T22:26:19.888757Z",
     "iopub.status.idle": "2021-08-19T22:26:19.894427Z",
     "shell.execute_reply": "2021-08-19T22:26:19.893448Z",
     "shell.execute_reply.started": "2021-08-19T22:26:19.889202Z"
    },
    "id": "_IfD82qmtwk_",
    "jupyter": {
     "outputs_hidden": false
    }
   },
   "outputs": [],
   "source": [
    "import multiprocessing\n",
    "\n",
    "cores = multiprocessing.cpu_count()"
   ]
  },
  {
   "cell_type": "code",
   "execution_count": 8,
   "metadata": {
    "_cell_guid": "7457b696-404a-401e-8a49-07a82f309feb",
    "_uuid": "ffc80817-491c-4d67-9729-26f49469208a",
    "execution": {
     "iopub.execute_input": "2021-08-19T22:26:19.897437Z",
     "iopub.status.busy": "2021-08-19T22:26:19.897044Z",
     "iopub.status.idle": "2021-08-19T22:26:46.617655Z",
     "shell.execute_reply": "2021-08-19T22:26:46.616361Z",
     "shell.execute_reply.started": "2021-08-19T22:26:19.897404Z"
    },
    "id": "rUW3g91ftx79",
    "jupyter": {
     "outputs_hidden": false
    },
    "outputId": "6df64607-4afb-4200-d4dd-84b8df8b611c"
   },
   "outputs": [
    {
     "name": "stderr",
     "output_type": "stream",
     "text": [
      "100%|██████████| 1476085/1476085 [00:00<00:00, 2264532.92it/s]\n"
     ]
    }
   ],
   "source": [
    "model_dbow = Doc2Vec(dm=0, vector_size=200, negative=5, hs=0, min_count=2, sample = 0, workers=cores)\n",
    "model_dbow.build_vocab([x for x in tqdm(train_tagged.values)])"
   ]
  },
  {
   "cell_type": "code",
   "execution_count": 9,
   "metadata": {
    "_cell_guid": "a1ba3e22-2df1-45cd-8f88-9d817cbbf1cf",
    "_uuid": "15760d47-96c6-4365-88e7-eb3945f577cb",
    "execution": {
     "iopub.execute_input": "2021-08-19T22:26:46.620177Z",
     "iopub.status.busy": "2021-08-19T22:26:46.619799Z",
     "iopub.status.idle": "2021-08-19T23:20:40.093784Z",
     "shell.execute_reply": "2021-08-19T23:20:40.092909Z",
     "shell.execute_reply.started": "2021-08-19T22:26:46.620124Z"
    },
    "id": "7SSyi3LQt_XD",
    "jupyter": {
     "outputs_hidden": false
    },
    "outputId": "2b6a3b83-4c83-406c-d5e2-97074b98da92"
   },
   "outputs": [
    {
     "name": "stderr",
     "output_type": "stream",
     "text": [
      "100%|██████████| 1476085/1476085 [00:00<00:00, 2255029.34it/s]\n",
      "100%|██████████| 1476085/1476085 [00:00<00:00, 2389722.33it/s]\n",
      "100%|██████████| 1476085/1476085 [00:00<00:00, 2370672.69it/s]\n",
      "100%|██████████| 1476085/1476085 [00:00<00:00, 2405720.91it/s]\n",
      "100%|██████████| 1476085/1476085 [00:00<00:00, 2345841.36it/s]\n",
      "100%|██████████| 1476085/1476085 [00:00<00:00, 2300735.07it/s]\n",
      "100%|██████████| 1476085/1476085 [00:00<00:00, 2346819.50it/s]\n",
      "100%|██████████| 1476085/1476085 [00:00<00:00, 2375353.25it/s]\n",
      "100%|██████████| 1476085/1476085 [00:00<00:00, 2379189.84it/s]\n",
      "100%|██████████| 1476085/1476085 [00:00<00:00, 2344052.60it/s]\n",
      "100%|██████████| 1476085/1476085 [00:00<00:00, 2342677.79it/s]\n",
      "100%|██████████| 1476085/1476085 [00:00<00:00, 2325155.32it/s]\n",
      "100%|██████████| 1476085/1476085 [00:00<00:00, 2332355.57it/s]\n",
      "100%|██████████| 1476085/1476085 [00:00<00:00, 2379589.46it/s]\n",
      "100%|██████████| 1476085/1476085 [00:00<00:00, 2377451.21it/s]\n",
      "100%|██████████| 1476085/1476085 [00:00<00:00, 2357090.05it/s]\n",
      "100%|██████████| 1476085/1476085 [00:00<00:00, 2369038.93it/s]\n",
      "100%|██████████| 1476085/1476085 [00:00<00:00, 2232154.81it/s]\n",
      "100%|██████████| 1476085/1476085 [00:00<00:00, 2339972.82it/s]\n",
      "100%|██████████| 1476085/1476085 [00:00<00:00, 2323847.07it/s]\n",
      "100%|██████████| 1476085/1476085 [00:00<00:00, 2292974.92it/s]\n",
      "100%|██████████| 1476085/1476085 [00:00<00:00, 2336609.85it/s]\n",
      "100%|██████████| 1476085/1476085 [00:00<00:00, 2361822.49it/s]\n",
      "100%|██████████| 1476085/1476085 [00:00<00:00, 2353599.89it/s]\n",
      "100%|██████████| 1476085/1476085 [00:00<00:00, 2371088.51it/s]\n",
      "100%|██████████| 1476085/1476085 [00:00<00:00, 2403264.89it/s]\n",
      "100%|██████████| 1476085/1476085 [00:00<00:00, 2368178.06it/s]\n",
      "100%|██████████| 1476085/1476085 [00:00<00:00, 2387542.82it/s]\n",
      "100%|██████████| 1476085/1476085 [00:00<00:00, 2373332.69it/s]\n",
      "100%|██████████| 1476085/1476085 [00:00<00:00, 2359154.06it/s]\n"
     ]
    }
   ],
   "source": [
    "for epoch in range(30):\n",
    "    model_dbow.train(utils.shuffle([x for x in tqdm(train_tagged.values)]), total_examples=len(train_tagged.values), epochs=1)\n",
    "    model_dbow.alpha -= 0.002\n",
    "    model_dbow.min_alpha = model_dbow.alpha"
   ]
  },
  {
   "cell_type": "code",
   "execution_count": 10,
   "metadata": {
    "_cell_guid": "83572ac5-834a-47e6-8854-79da1da6413e",
    "_uuid": "ce3a3dcd-2a80-454b-be55-dbac6c463b93",
    "execution": {
     "iopub.execute_input": "2021-08-19T23:20:40.095320Z",
     "iopub.status.busy": "2021-08-19T23:20:40.095019Z",
     "iopub.status.idle": "2021-08-19T23:20:40.102749Z",
     "shell.execute_reply": "2021-08-19T23:20:40.101536Z",
     "shell.execute_reply.started": "2021-08-19T23:20:40.095291Z"
    },
    "id": "HgdVwfPluDyk",
    "jupyter": {
     "outputs_hidden": false
    }
   },
   "outputs": [],
   "source": [
    "def vec_for_learning(model, tagged_docs):\n",
    "    sents = tagged_docs.values\n",
    "    targets, regressors = zip(*[(doc.tags[0], model.infer_vector(doc.words, steps=20)) for doc in sents])\n",
    "    return targets, regressors\n",
    "def vec_for_learning(model, tagged_docs):\n",
    "    sents = tagged_docs.values\n",
    "    targets, regressors = zip(*[(doc.tags[0], model.infer_vector(doc.words, steps=20)) for doc in sents])\n",
    "    return targets, regressors"
   ]
  },
  {
   "cell_type": "code",
   "execution_count": 11,
   "metadata": {
    "_cell_guid": "31ba9b64-58c4-4b26-bb0c-2f959a12004d",
    "_uuid": "a929a47d-8db9-4b91-bb60-6b5eb26774e2",
    "execution": {
     "iopub.execute_input": "2021-08-19T23:20:40.104333Z",
     "iopub.status.busy": "2021-08-19T23:20:40.104038Z",
     "iopub.status.idle": "2021-08-19T23:26:44.877883Z",
     "shell.execute_reply": "2021-08-19T23:26:44.875194Z",
     "shell.execute_reply.started": "2021-08-19T23:20:40.104305Z"
    },
    "id": "cNLEoGnWuL8O",
    "jupyter": {
     "outputs_hidden": false
    }
   },
   "outputs": [
    {
     "name": "stdout",
     "output_type": "stream",
     "text": [
      "\n",
      "============ Logistic regression\n",
      "---- confusion_matrix:\n",
      "[[326295  47923]\n",
      " [ 99598 158792]]\n",
      "---- classification_report:\n",
      "              precision    recall  f1-score   support\n",
      "\n",
      "          No       0.77      0.87      0.82    374218\n",
      "         Yes       0.77      0.61      0.68    258390\n",
      "\n",
      "    accuracy                           0.77    632608\n",
      "   macro avg       0.77      0.74      0.75    632608\n",
      "weighted avg       0.77      0.77      0.76    632608\n",
      "\n",
      "---- accuracy_score:\n",
      "0.7668050356618948\n"
     ]
    }
   ],
   "source": [
    "from sklearn.metrics import classification_report, confusion_matrix, accuracy_score\n",
    "y_train, X_train = vec_for_learning(model_dbow, train_tagged)\n",
    "y_test, X_test = vec_for_learning(model_dbow, test_tagged)\n",
    "from sklearn.linear_model import LogisticRegression\n",
    "lr_classifier = LogisticRegression(n_jobs=1, C=1e5,random_state=0)\n",
    "lr_classifier.fit(X_train, y_train)\n",
    "y_pred = lr_classifier.predict(X_test)\n",
    "print(\"\\n============ Logistic regression\")\n",
    "print(\"---- confusion_matrix:\")\n",
    "print(confusion_matrix(y_test,y_pred))\n",
    "print(\"---- classification_report:\")\n",
    "print(classification_report(y_test,y_pred))\n",
    "print(\"---- accuracy_score:\")\n",
    "print(accuracy_score(y_test,y_pred))"
   ]
  },
  {
   "cell_type": "code",
   "execution_count": 12,
   "metadata": {
    "_cell_guid": "a3e04e6b-7377-410e-98dd-6c6d30cf0a95",
    "_uuid": "cc84cff6-5948-4f03-aad5-31abf135e6a6",
    "execution": {
     "iopub.execute_input": "2021-08-19T23:26:44.879813Z",
     "iopub.status.busy": "2021-08-19T23:26:44.879388Z",
     "iopub.status.idle": "2021-08-19T23:27:02.691133Z",
     "shell.execute_reply": "2021-08-19T23:27:02.690177Z",
     "shell.execute_reply.started": "2021-08-19T23:26:44.879767Z"
    },
    "id": "Vw9YHovDw4Ob",
    "jupyter": {
     "outputs_hidden": false
    }
   },
   "outputs": [
    {
     "name": "stdout",
     "output_type": "stream",
     "text": [
      "n============ Fitting Naive Bayes...\n",
      "\n",
      "============ Naive Bayes\n",
      "---- confusion_matrix:\n",
      "[[338805  35413]\n",
      " [115801 142589]]\n",
      "---- classification_report:\n",
      "              precision    recall  f1-score   support\n",
      "\n",
      "          No       0.75      0.91      0.82    374218\n",
      "         Yes       0.80      0.55      0.65    258390\n",
      "\n",
      "    accuracy                           0.76    632608\n",
      "   macro avg       0.77      0.73      0.74    632608\n",
      "weighted avg       0.77      0.76      0.75    632608\n",
      "\n",
      "---- accuracy_score:\n",
      "0.7609672972836259\n"
     ]
    }
   ],
   "source": [
    "from sklearn.naive_bayes import GaussianNB\n",
    "print(\"n============ Fitting Naive Bayes...\")\n",
    "gnb_classifier = GaussianNB()\n",
    "gnb_classifier.fit(X_train, y_train)\n",
    "y_pred = gnb_classifier.predict(X_test)\n",
    "print(\"\\n============ Naive Bayes\")\n",
    "print(\"---- confusion_matrix:\")\n",
    "print(confusion_matrix(y_test,y_pred))\n",
    "print(\"---- classification_report:\")\n",
    "print(classification_report(y_test,y_pred))\n",
    "print(\"---- accuracy_score:\")\n",
    "print(accuracy_score(y_test,y_pred))"
   ]
  },
  {
   "cell_type": "code",
   "execution_count": 13,
   "metadata": {
    "_cell_guid": "484cc506-bff9-4d69-a347-ec2c43056ff3",
    "_uuid": "6f059aa5-b54a-4e92-bda6-b22d44e68f2a",
    "execution": {
     "iopub.execute_input": "2021-08-19T23:27:02.692578Z",
     "iopub.status.busy": "2021-08-19T23:27:02.692319Z",
     "iopub.status.idle": "2021-08-20T00:59:30.377733Z",
     "shell.execute_reply": "2021-08-20T00:59:30.376834Z",
     "shell.execute_reply.started": "2021-08-19T23:27:02.692552Z"
    },
    "id": "QDtSzelow62c",
    "jupyter": {
     "outputs_hidden": false
    }
   },
   "outputs": [
    {
     "name": "stdout",
     "output_type": "stream",
     "text": [
      "n============ Fitting Random Forest...\n",
      "\n",
      "============ Random Forest\n",
      "---- confusion_matrix:\n",
      "[[324182  50036]\n",
      " [ 98577 159813]]\n",
      "---- classification_report:\n",
      "              precision    recall  f1-score   support\n",
      "\n",
      "          No       0.77      0.87      0.81    374218\n",
      "         Yes       0.76      0.62      0.68    258390\n",
      "\n",
      "    accuracy                           0.77    632608\n",
      "   macro avg       0.76      0.74      0.75    632608\n",
      "weighted avg       0.76      0.77      0.76    632608\n",
      "\n",
      "---- accuracy_score:\n",
      "0.7650788481966716\n"
     ]
    }
   ],
   "source": [
    "from sklearn.ensemble import RandomForestClassifier\n",
    "print(\"n============ Fitting Random Forest...\")\n",
    "forest_classifier = RandomForestClassifier()\n",
    "forest_classifier.fit(X_train, y_train)\n",
    "\n",
    "y_pred = forest_classifier.predict(X_test)\n",
    "print(\"\\n============ Random Forest\")\n",
    "print(\"---- confusion_matrix:\")\n",
    "print(confusion_matrix(y_test,y_pred))\n",
    "print(\"---- classification_report:\")\n",
    "print(classification_report(y_test,y_pred))\n",
    "print(\"---- accuracy_score:\")\n",
    "print(accuracy_score(y_test,y_pred))"
   ]
  },
  {
   "cell_type": "code",
   "execution_count": 14,
   "metadata": {
    "_cell_guid": "b5991b6e-895e-4a8b-9f6f-31fc9bc68572",
    "_uuid": "ed8f5f5e-0c14-4801-9d3c-ecdb4ff00059",
    "execution": {
     "iopub.execute_input": "2021-08-20T00:59:30.379638Z",
     "iopub.status.busy": "2021-08-20T00:59:30.379165Z",
     "iopub.status.idle": "2021-08-20T01:18:41.716124Z",
     "shell.execute_reply": "2021-08-20T01:18:41.714861Z",
     "shell.execute_reply.started": "2021-08-20T00:59:30.379590Z"
    },
    "id": "rQsmK8Nkw_Db",
    "jupyter": {
     "outputs_hidden": false
    }
   },
   "outputs": [
    {
     "name": "stdout",
     "output_type": "stream",
     "text": [
      "n============ Support Vector Machine...\n",
      "\n",
      "============ Support Vector Machine\n",
      "---- confusion_matrix:\n",
      "[[329293  44925]\n",
      " [103052 155338]]\n",
      "---- classification_report:\n",
      "              precision    recall  f1-score   support\n",
      "\n",
      "          No       0.76      0.88      0.82    374218\n",
      "         Yes       0.78      0.60      0.68    258390\n",
      "\n",
      "    accuracy                           0.77    632608\n",
      "   macro avg       0.77      0.74      0.75    632608\n",
      "weighted avg       0.77      0.77      0.76    632608\n",
      "\n",
      "---- accuracy_score:\n",
      "0.7660842101269665\n"
     ]
    }
   ],
   "source": [
    "from sklearn import svm\n",
    "svm_classifier = svm.LinearSVC()\n",
    "print(\"n============ Support Vector Machine...\")\n",
    "svm_classifier.fit(X_train, y_train)\n",
    "\n",
    "y_pred = svm_classifier.predict(X_test)\n",
    "print(\"\\n============ Support Vector Machine\")\n",
    "print(\"---- confusion_matrix:\")\n",
    "print(confusion_matrix(y_test,y_pred))\n",
    "print(\"---- classification_report:\")\n",
    "print(classification_report(y_test,y_pred))\n",
    "print(\"---- accuracy_score:\")\n",
    "print(accuracy_score(y_test,y_pred))"
   ]
  },
  {
   "cell_type": "code",
   "execution_count": 15,
   "metadata": {
    "execution": {
     "iopub.execute_input": "2021-08-20T01:18:41.718296Z",
     "iopub.status.busy": "2021-08-20T01:18:41.717749Z",
     "iopub.status.idle": "2021-08-20T01:19:32.538750Z",
     "shell.execute_reply": "2021-08-20T01:19:32.537557Z",
     "shell.execute_reply.started": "2021-08-20T01:18:41.718261Z"
    }
   },
   "outputs": [
    {
     "name": "stdout",
     "output_type": "stream",
     "text": [
      "\n",
      "============ Logistic regression\n",
      "---- confusion_matrix:\n",
      "[[326295  47923]\n",
      " [ 99598 158792]]\n",
      "---- classification_report:\n",
      "              precision    recall  f1-score   support\n",
      "\n",
      "          No       0.77      0.87      0.82    374218\n",
      "         Yes       0.77      0.61      0.68    258390\n",
      "\n",
      "    accuracy                           0.77    632608\n",
      "   macro avg       0.77      0.74      0.75    632608\n",
      "weighted avg       0.77      0.77      0.76    632608\n",
      "\n",
      "---- accuracy_score:\n",
      "0.7668050356618948\n"
     ]
    }
   ],
   "source": [
    "from sklearn.linear_model import LogisticRegression\n",
    "lr_classifier = LogisticRegression(n_jobs=1, C=1e5,random_state=0)\n",
    "lr_classifier.fit(X_train, y_train)\n",
    "y_pred = lr_classifier.predict(X_test)\n",
    "print(\"\\n============ Logistic regression\")\n",
    "print(\"---- confusion_matrix:\")\n",
    "print(confusion_matrix(y_test,y_pred))\n",
    "print(\"---- classification_report:\")\n",
    "print(classification_report(y_test,y_pred))\n",
    "print(\"---- accuracy_score:\")\n",
    "print(accuracy_score(y_test,y_pred))"
   ]
  }
 ],
 "metadata": {
  "kernelspec": {
   "display_name": "Python 3",
   "language": "python",
   "name": "python3"
  },
  "language_info": {
   "codemirror_mode": {
    "name": "ipython",
    "version": 3
   },
   "file_extension": ".py",
   "mimetype": "text/x-python",
   "name": "python",
   "nbconvert_exporter": "python",
   "pygments_lexer": "ipython3",
   "version": "3.8.8"
  }
 },
 "nbformat": 4,
 "nbformat_minor": 4
}
