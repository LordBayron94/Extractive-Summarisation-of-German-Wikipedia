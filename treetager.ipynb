{
 "cells": [
  {
   "cell_type": "code",
   "execution_count": null,
   "id": "5a5cf8fa",
   "metadata": {},
   "outputs": [],
   "source": [
    "import nltk, codecs,pandas as pd\n",
    "from HanTa import HanoverTagger as ht\n",
    "from nltk import sent_tokenize, word_tokenize\n",
    "\n",
    "tagger = ht.HanoverTagger('morphmodel_ger.pgz')\n",
    "\n",
    "def identify_tokens(row):\n",
    "    tokens = word_tokenize(row, language='german')\n",
    "    return tokens\n",
    "\n",
    "words = df['source'].apply(identify_tokens)\n",
    "\n",
    "tags = [tagger.tag_sent(sent, taglevel=0) for sent in words]\n",
    "print(tags)"
   ]
  },
  {
   "cell_type": "code",
   "execution_count": null,
   "id": "8eef34ba",
   "metadata": {},
   "outputs": [],
   "source": [
    "import treetaggerwrapper\n",
    "from nltk import sent_tokenize, word_tokenize\n",
    "\n",
    "def lemmatize_text(text):\n",
    "    tree_tagger = treetaggerwrapper.TreeTagger(TAGLANG='de')\n",
    "    tags = tree_tagger.tag_text(tokenized_sentance, tagonly=True)\n",
    "    return tags\n",
    "\n",
    "df['text_lemmatized'] = df['source'].apply(lemmatize_text)"
   ]
  },
  {
   "cell_type": "code",
   "execution_count": null,
   "id": "cca6501c",
   "metadata": {},
   "outputs": [],
   "source": [
    "from pprint import pprint\n",
    "nouns = [] \n",
    "sentences_tok = [nltk.tokenize.word_tokenize(sent) for sent in sentences]\n",
    "for sent in sentences_tok:\n",
    "    tags = tagger.tag_sent(sent) \n",
    "    nouns_from_sent = [lemma for (word,lemma,pos) in tags if pos == \"NN\" or pos == \"NE\"]\n",
    "    nouns.extend(nouns_from_sent)\n",
    "\n",
    "fdist = nltk.FreqDist(nouns)    \n",
    "\n",
    "pprint(fdist.most_common(10))\n",
    "fdist.plot(50,cumulative=False)"
   ]
  },
  {
   "cell_type": "code",
   "execution_count": 2,
   "id": "1eefb167",
   "metadata": {},
   "outputs": [
    {
     "data": {
      "text/html": [
       "<div>\n",
       "<style scoped>\n",
       "    .dataframe tbody tr th:only-of-type {\n",
       "        vertical-align: middle;\n",
       "    }\n",
       "\n",
       "    .dataframe tbody tr th {\n",
       "        vertical-align: top;\n",
       "    }\n",
       "\n",
       "    .dataframe thead th {\n",
       "        text-align: right;\n",
       "    }\n",
       "</style>\n",
       "<table border=\"1\" class=\"dataframe\">\n",
       "  <thead>\n",
       "    <tr style=\"text-align: right;\">\n",
       "      <th></th>\n",
       "      <th>source</th>\n",
       "      <th>summary</th>\n",
       "    </tr>\n",
       "  </thead>\n",
       "  <tbody>\n",
       "    <tr>\n",
       "      <th>0</th>\n",
       "      <td>Minghella war der Sohn italienisch-schottische...</td>\n",
       "      <td>Anthony Minghella, CBE war ein britischer Film...</td>\n",
       "    </tr>\n",
       "    <tr>\n",
       "      <th>1</th>\n",
       "      <td>Ende der 1940er Jahre wurde eine erste Auteur-...</td>\n",
       "      <td>Die Auteur-Theorie ist eine Filmtheorie und di...</td>\n",
       "    </tr>\n",
       "    <tr>\n",
       "      <th>2</th>\n",
       "      <td>Al Pacino, geboren in Manhattan, ist der Sohn ...</td>\n",
       "      <td>Alfredo James \"Al\" Pacino ist ein US-amerikani...</td>\n",
       "    </tr>\n",
       "    <tr>\n",
       "      <th>3</th>\n",
       "      <td>Der Name der Alkalimetalle leitet sich von dem...</td>\n",
       "      <td>Als Alkalimetalle werden die chemischen Elemen...</td>\n",
       "    </tr>\n",
       "    <tr>\n",
       "      <th>4</th>\n",
       "      <td>Die Arbeit ist bereits seit dem Altertum Gegen...</td>\n",
       "      <td>Das deutsche Arbeitsrecht ist ein Rechtsgebiet...</td>\n",
       "    </tr>\n",
       "  </tbody>\n",
       "</table>\n",
       "</div>"
      ],
      "text/plain": [
       "                                              source  \\\n",
       "0  Minghella war der Sohn italienisch-schottische...   \n",
       "1  Ende der 1940er Jahre wurde eine erste Auteur-...   \n",
       "2  Al Pacino, geboren in Manhattan, ist der Sohn ...   \n",
       "3  Der Name der Alkalimetalle leitet sich von dem...   \n",
       "4  Die Arbeit ist bereits seit dem Altertum Gegen...   \n",
       "\n",
       "                                             summary  \n",
       "0  Anthony Minghella, CBE war ein britischer Film...  \n",
       "1  Die Auteur-Theorie ist eine Filmtheorie und di...  \n",
       "2  Alfredo James \"Al\" Pacino ist ein US-amerikani...  \n",
       "3  Als Alkalimetalle werden die chemischen Elemen...  \n",
       "4  Das deutsche Arbeitsrecht ist ein Rechtsgebiet...  "
      ]
     },
     "execution_count": 2,
     "metadata": {},
     "output_type": "execute_result"
    }
   ],
   "source": [
    "df = pd.read_csv('G:/Extractive-Summarisation-of-German-Wikipedia/dataset/data_train.csv', encoding='utf-8')\n",
    "df.head()"
   ]
  },
  {
   "cell_type": "code",
   "execution_count": null,
   "id": "2922cd15",
   "metadata": {},
   "outputs": [],
   "source": [
    "from pprint import pprint\n",
    "\n",
    "nouns = [] \n",
    "sentences_tok = [nltk.tokenize.word_tokenize(sent) for sent in sentences]\n",
    "for sent in sentences_tok:\n",
    "    tags = tagger.tag_sent(sent) \n",
    "    nouns_from_sent = [lemma for (word,lemma,pos) in tags if pos == \"NN\" or pos == \"NE\"]\n",
    "    nouns.extend(nouns_from_sent)\n",
    "\n",
    "fdist = nltk.FreqDist(nouns)    \n",
    "\n",
    "pprint(fdist.most_common(10))\n",
    "fdist.plot(50,cumulative=False)"
   ]
  }
 ],
 "metadata": {
  "kernelspec": {
   "display_name": "Python 3",
   "language": "python",
   "name": "python3"
  },
  "language_info": {
   "codemirror_mode": {
    "name": "ipython",
    "version": 3
   },
   "file_extension": ".py",
   "mimetype": "text/x-python",
   "name": "python",
   "nbconvert_exporter": "python",
   "pygments_lexer": "ipython3",
   "version": "3.8.8"
  }
 },
 "nbformat": 4,
 "nbformat_minor": 5
}
