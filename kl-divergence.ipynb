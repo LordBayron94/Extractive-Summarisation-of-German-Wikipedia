{
 "cells": [
  {
   "cell_type": "code",
   "execution_count": 7,
   "id": "753ab7e7",
   "metadata": {},
   "outputs": [
    {
     "name": "stdout",
     "output_type": "stream",
     "text": [
      "Requirement already satisfied: sumy in h:\\anaconda\\lib\\site-packages (0.8.1)\n",
      "Requirement already satisfied: breadability>=0.1.20 in h:\\anaconda\\lib\\site-packages (from sumy) (0.1.20)\n",
      "Requirement already satisfied: nltk>=3.0.2 in h:\\anaconda\\lib\\site-packages (from sumy) (3.6.1)\n",
      "Requirement already satisfied: requests>=2.7.0 in h:\\anaconda\\lib\\site-packages (from sumy) (2.25.1)\n",
      "Requirement already satisfied: docopt<0.7,>=0.6.1 in h:\\anaconda\\lib\\site-packages (from sumy) (0.6.2)\n",
      "Requirement already satisfied: pycountry>=18.2.23 in h:\\anaconda\\lib\\site-packages (from sumy) (20.7.3)\n",
      "Requirement already satisfied: lxml>=2.0 in h:\\anaconda\\lib\\site-packages (from breadability>=0.1.20->sumy) (4.6.3)\n",
      "Requirement already satisfied: chardet in h:\\anaconda\\lib\\site-packages (from breadability>=0.1.20->sumy) (4.0.0)\n",
      "Requirement already satisfied: regex in h:\\anaconda\\lib\\site-packages (from nltk>=3.0.2->sumy) (2021.4.4)\n",
      "Requirement already satisfied: click in h:\\anaconda\\lib\\site-packages (from nltk>=3.0.2->sumy) (7.1.2)\n",
      "Requirement already satisfied: joblib in h:\\anaconda\\lib\\site-packages (from nltk>=3.0.2->sumy) (1.0.1)\n",
      "Requirement already satisfied: tqdm in h:\\anaconda\\lib\\site-packages (from nltk>=3.0.2->sumy) (4.59.0)\n",
      "Requirement already satisfied: urllib3<1.27,>=1.21.1 in h:\\anaconda\\lib\\site-packages (from requests>=2.7.0->sumy) (1.26.4)\n",
      "Requirement already satisfied: certifi>=2017.4.17 in h:\\anaconda\\lib\\site-packages (from requests>=2.7.0->sumy) (2020.12.5)\n",
      "Requirement already satisfied: idna<3,>=2.5 in h:\\anaconda\\lib\\site-packages (from requests>=2.7.0->sumy) (2.10)\n"
     ]
    }
   ],
   "source": [
    "!pip install sumy\n",
    "from sumy.parsers.plaintext import PlaintextParser\n",
    "from sumy.nlp.tokenizers import Tokenizer\n",
    "from sumy.summarizers.kl import KLSummarizer\n",
    "import pandas as pd, nltk, re\n",
    "from nltk.tokenize import sent_tokenize, word_tokenize\n",
    "pd.options.mode.chained_assignment = None  # default='warn'"
   ]
  },
  {
   "cell_type": "code",
   "execution_count": 8,
   "id": "a79acd9f",
   "metadata": {},
   "outputs": [],
   "source": [
    "df = pd.read_csv('G:/Extractive-Summarisation-of-German-Wikipedia/dataset/data_train.csv', encoding='utf-8')"
   ]
  },
  {
   "cell_type": "code",
   "execution_count": 9,
   "id": "5ee01a10",
   "metadata": {},
   "outputs": [],
   "source": [
    "stopword_list = nltk.corpus.stopwords.words('german')\n",
    "LANGUAGE = \"german\"\n",
    "def remove_stopwords(text):\n",
    "    filtered_words = [word for word in nltk.word_tokenize(text, language=\"german\") if word not in stopword_list]\n",
    "    filtered_text = ' '.join(filtered_words)\n",
    "    return filtered_text\n",
    "\n",
    "def KLdiv(df, size):\n",
    "    lst = []\n",
    "    parser = PlaintextParser.from_string(df, Tokenizer(LANGUAGE))\n",
    "    summarizer = KLSummarizer()\n",
    "    summary = summarizer(parser.document, size)\n",
    "    for s in summarizer(parser.document, size):\n",
    "        lst.append(s)\n",
    "    string = ' '.join([str(e) for e in lst])\n",
    "    return string"
   ]
  },
  {
   "cell_type": "code",
   "execution_count": 10,
   "id": "3cfefbb4",
   "metadata": {},
   "outputs": [
    {
     "name": "stdout",
     "output_type": "stream",
     "text": [
      "Gegen Ende seines Lebens kehrte Minghella zu seinen Anfängen im Radio und auf der Bühne zurück: 2006 wurde sein Hörspiel \"Eyes Down Looking\" mit Jude Law zu Ehren von Samuel Beckett auf BBC Radio 3 ausgestrahlt, ein Jahr zuvor hatte seine Inszenierung der Puccini-Oper Madame Butterfly in der English National Opera in London Premiere und wurde auch in der Nationaloper von Vilnius und in der Metropolitan Opera in New York gezeigt.\n"
     ]
    }
   ],
   "source": [
    "test_df = df.head(50)\n",
    "print(KLdiv(test_df['source'][0], 1))"
   ]
  },
  {
   "cell_type": "code",
   "execution_count": 12,
   "id": "70f197d9",
   "metadata": {},
   "outputs": [],
   "source": [
    "test_df['source'] = test_df['source'].apply(remove_stopwords)\n",
    "test_df['kl1'] = test_df.apply(lambda x: KLdiv(x['source'], 1), axis=1)\n",
    "test_df['kl2'] = test_df.apply(lambda x: KLdiv(x['source'], 2), axis=1)\n",
    "test_df['kl5'] = test_df.apply(lambda x: KLdiv(x['source'], 5), axis=1)\n",
    "test_df['kl10'] = test_df.apply(lambda x: KLdiv(x['source'], 10), axis=1)\n",
    "test_df.to_csv('G:/Extractive-Summarisation-of-German-Wikipedia/dataset/kl-divergenceR2.csv')"
   ]
  },
  {
   "cell_type": "code",
   "execution_count": null,
   "id": "716da333",
   "metadata": {},
   "outputs": [],
   "source": [
    "from rouge import Rouge\n",
    "import sys\n",
    "\n",
    "sys.stdout = open(\"G:/Extractive-Summarisation-of-German-Wikipedia/dataset/kl_test.txt\", \"w\")\n",
    "\n",
    "hy, rf = test_df['kl1'], test_df['summary']\n",
    "rouge= Rouge()\n",
    "scoresT1= rouge.get_scores(hy, rf, avg=True)\n",
    "print(\"KL1 scores: \", scoresT1, '\\n\\n')\n",
    "\n",
    "hy2 = test_df['kl2']\n",
    "scoresT2= rouge.get_scores(hy2, rf, avg=True)\n",
    "print(\"KL2 scores: \", scoresT2, '\\n\\n')\n",
    "\n",
    "hy5 = test_df['kl5']\n",
    "scoresT5= rouge.get_scores(hy5, rf, avg=True)\n",
    "print(\"KL5 scores: \", scoresT5, '\\n\\n')\n",
    "\n",
    "hy10 = test_df['kl10']\n",
    "scoresT10= rouge.get_scores(hy10, rf, avg=True)\n",
    "print(\"KL10 scores: \", scoresT10, '\\n\\n')\n",
    "\n",
    "sys.stdout.close()"
   ]
  }
 ],
 "metadata": {
  "kernelspec": {
   "display_name": "Python 3",
   "language": "python",
   "name": "python3"
  },
  "language_info": {
   "codemirror_mode": {
    "name": "ipython",
    "version": 3
   },
   "file_extension": ".py",
   "mimetype": "text/x-python",
   "name": "python",
   "nbconvert_exporter": "python",
   "pygments_lexer": "ipython3",
   "version": "3.8.8"
  }
 },
 "nbformat": 4,
 "nbformat_minor": 5
}
